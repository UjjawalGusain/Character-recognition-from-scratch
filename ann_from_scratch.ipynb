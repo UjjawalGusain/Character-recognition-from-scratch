{
  "nbformat": 4,
  "nbformat_minor": 0,
  "metadata": {
    "colab": {
      "provenance": []
    },
    "kernelspec": {
      "name": "python3",
      "display_name": "Python 3"
    },
    "language_info": {
      "name": "python"
    }
  },
  "cells": [
    {
      "cell_type": "code",
      "execution_count": 1,
      "metadata": {
        "id": "19s4NgOixKZM"
      },
      "outputs": [],
      "source": [
        "import numpy as np\n",
        "import pandas as pd\n",
        "import keras"
      ]
    },
    {
      "cell_type": "code",
      "source": [
        "(train_X, train_y), (test_X, test_y) = keras.datasets.mnist.load_data(path=\"mnist.npz\")"
      ],
      "metadata": {
        "colab": {
          "base_uri": "https://localhost:8080/"
        },
        "id": "NptTvb21xQRJ",
        "outputId": "c2f0eb52-581a-4b4a-bc22-c31b314ab674"
      },
      "execution_count": 2,
      "outputs": [
        {
          "output_type": "stream",
          "name": "stdout",
          "text": [
            "Downloading data from https://storage.googleapis.com/tensorflow/tf-keras-datasets/mnist.npz\n",
            "\u001b[1m11490434/11490434\u001b[0m \u001b[32m━━━━━━━━━━━━━━━━━━━━\u001b[0m\u001b[37m\u001b[0m \u001b[1m0s\u001b[0m 0us/step\n"
          ]
        }
      ]
    },
    {
      "cell_type": "code",
      "source": [
        "train_X.shape"
      ],
      "metadata": {
        "colab": {
          "base_uri": "https://localhost:8080/"
        },
        "id": "_ypoylzjxS3u",
        "outputId": "b4cff38c-423e-4e0c-9c43-a0447b417d6c"
      },
      "execution_count": 3,
      "outputs": [
        {
          "output_type": "execute_result",
          "data": {
            "text/plain": [
              "(60000, 28, 28)"
            ]
          },
          "metadata": {},
          "execution_count": 3
        }
      ]
    },
    {
      "cell_type": "code",
      "source": [
        "test_X.shape"
      ],
      "metadata": {
        "colab": {
          "base_uri": "https://localhost:8080/"
        },
        "id": "0LcCpQhqxVTn",
        "outputId": "64edc812-903e-4be6-ddd2-1d74432ae9cb"
      },
      "execution_count": 4,
      "outputs": [
        {
          "output_type": "execute_result",
          "data": {
            "text/plain": [
              "(10000, 28, 28)"
            ]
          },
          "metadata": {},
          "execution_count": 4
        }
      ]
    },
    {
      "cell_type": "code",
      "source": [
        "type(train_X)"
      ],
      "metadata": {
        "colab": {
          "base_uri": "https://localhost:8080/"
        },
        "id": "N24lqUbCxWw_",
        "outputId": "99a977ad-11a8-42ac-f8bf-d2a3e1e04dcf"
      },
      "execution_count": 5,
      "outputs": [
        {
          "output_type": "execute_result",
          "data": {
            "text/plain": [
              "numpy.ndarray"
            ]
          },
          "metadata": {},
          "execution_count": 5
        }
      ]
    },
    {
      "cell_type": "code",
      "source": [
        "np.isnan(train_y).sum()"
      ],
      "metadata": {
        "colab": {
          "base_uri": "https://localhost:8080/"
        },
        "id": "TQgX_ZmsxalD",
        "outputId": "fdadf478-e4d8-4774-a3a3-0195f8506136"
      },
      "execution_count": 6,
      "outputs": [
        {
          "output_type": "execute_result",
          "data": {
            "text/plain": [
              "0"
            ]
          },
          "metadata": {},
          "execution_count": 6
        }
      ]
    },
    {
      "cell_type": "code",
      "source": [
        "np.isnan(train_X).sum()"
      ],
      "metadata": {
        "colab": {
          "base_uri": "https://localhost:8080/"
        },
        "id": "iH8hjVjaxcnz",
        "outputId": "faf80afb-d527-4ad1-b022-270c2ce9ff2e"
      },
      "execution_count": 7,
      "outputs": [
        {
          "output_type": "execute_result",
          "data": {
            "text/plain": [
              "0"
            ]
          },
          "metadata": {},
          "execution_count": 7
        }
      ]
    },
    {
      "cell_type": "code",
      "source": [
        "train_X"
      ],
      "metadata": {
        "colab": {
          "base_uri": "https://localhost:8080/"
        },
        "id": "z2-1hSkRxeMn",
        "outputId": "ba0eba03-1349-4907-d23c-fe65fcfc7a79"
      },
      "execution_count": 8,
      "outputs": [
        {
          "output_type": "execute_result",
          "data": {
            "text/plain": [
              "array([[[0, 0, 0, ..., 0, 0, 0],\n",
              "        [0, 0, 0, ..., 0, 0, 0],\n",
              "        [0, 0, 0, ..., 0, 0, 0],\n",
              "        ...,\n",
              "        [0, 0, 0, ..., 0, 0, 0],\n",
              "        [0, 0, 0, ..., 0, 0, 0],\n",
              "        [0, 0, 0, ..., 0, 0, 0]],\n",
              "\n",
              "       [[0, 0, 0, ..., 0, 0, 0],\n",
              "        [0, 0, 0, ..., 0, 0, 0],\n",
              "        [0, 0, 0, ..., 0, 0, 0],\n",
              "        ...,\n",
              "        [0, 0, 0, ..., 0, 0, 0],\n",
              "        [0, 0, 0, ..., 0, 0, 0],\n",
              "        [0, 0, 0, ..., 0, 0, 0]],\n",
              "\n",
              "       [[0, 0, 0, ..., 0, 0, 0],\n",
              "        [0, 0, 0, ..., 0, 0, 0],\n",
              "        [0, 0, 0, ..., 0, 0, 0],\n",
              "        ...,\n",
              "        [0, 0, 0, ..., 0, 0, 0],\n",
              "        [0, 0, 0, ..., 0, 0, 0],\n",
              "        [0, 0, 0, ..., 0, 0, 0]],\n",
              "\n",
              "       ...,\n",
              "\n",
              "       [[0, 0, 0, ..., 0, 0, 0],\n",
              "        [0, 0, 0, ..., 0, 0, 0],\n",
              "        [0, 0, 0, ..., 0, 0, 0],\n",
              "        ...,\n",
              "        [0, 0, 0, ..., 0, 0, 0],\n",
              "        [0, 0, 0, ..., 0, 0, 0],\n",
              "        [0, 0, 0, ..., 0, 0, 0]],\n",
              "\n",
              "       [[0, 0, 0, ..., 0, 0, 0],\n",
              "        [0, 0, 0, ..., 0, 0, 0],\n",
              "        [0, 0, 0, ..., 0, 0, 0],\n",
              "        ...,\n",
              "        [0, 0, 0, ..., 0, 0, 0],\n",
              "        [0, 0, 0, ..., 0, 0, 0],\n",
              "        [0, 0, 0, ..., 0, 0, 0]],\n",
              "\n",
              "       [[0, 0, 0, ..., 0, 0, 0],\n",
              "        [0, 0, 0, ..., 0, 0, 0],\n",
              "        [0, 0, 0, ..., 0, 0, 0],\n",
              "        ...,\n",
              "        [0, 0, 0, ..., 0, 0, 0],\n",
              "        [0, 0, 0, ..., 0, 0, 0],\n",
              "        [0, 0, 0, ..., 0, 0, 0]]], dtype=uint8)"
            ]
          },
          "metadata": {},
          "execution_count": 8
        }
      ]
    },
    {
      "cell_type": "code",
      "source": [
        "train_y"
      ],
      "metadata": {
        "colab": {
          "base_uri": "https://localhost:8080/"
        },
        "id": "rZPikE0gxfom",
        "outputId": "4acfbc4e-6b03-4636-b776-93d5ee000230"
      },
      "execution_count": 9,
      "outputs": [
        {
          "output_type": "execute_result",
          "data": {
            "text/plain": [
              "array([5, 0, 4, ..., 5, 6, 8], dtype=uint8)"
            ]
          },
          "metadata": {},
          "execution_count": 9
        }
      ]
    },
    {
      "cell_type": "code",
      "source": [
        "train_X[0].shape"
      ],
      "metadata": {
        "colab": {
          "base_uri": "https://localhost:8080/"
        },
        "id": "HPa9bfL1xiXE",
        "outputId": "66f6bd24-51e9-456c-e838-9cc6c1df0ef5"
      },
      "execution_count": 10,
      "outputs": [
        {
          "output_type": "execute_result",
          "data": {
            "text/plain": [
              "(28, 28)"
            ]
          },
          "metadata": {},
          "execution_count": 10
        }
      ]
    },
    {
      "cell_type": "code",
      "source": [
        "train_X.shape"
      ],
      "metadata": {
        "colab": {
          "base_uri": "https://localhost:8080/"
        },
        "id": "vzMyP0JzxjyE",
        "outputId": "67cd1647-fed5-40ae-ce32-c74e195bfc8c"
      },
      "execution_count": 11,
      "outputs": [
        {
          "output_type": "execute_result",
          "data": {
            "text/plain": [
              "(60000, 28, 28)"
            ]
          },
          "metadata": {},
          "execution_count": 11
        }
      ]
    },
    {
      "cell_type": "code",
      "source": [
        "train_X = train_X.reshape(train_X.shape[0], -1)\n",
        "train_X"
      ],
      "metadata": {
        "colab": {
          "base_uri": "https://localhost:8080/"
        },
        "id": "BoGVRAVhxlJ1",
        "outputId": "0bfb29ff-4667-4c19-eccb-f352f534dec7"
      },
      "execution_count": 12,
      "outputs": [
        {
          "output_type": "execute_result",
          "data": {
            "text/plain": [
              "array([[0, 0, 0, ..., 0, 0, 0],\n",
              "       [0, 0, 0, ..., 0, 0, 0],\n",
              "       [0, 0, 0, ..., 0, 0, 0],\n",
              "       ...,\n",
              "       [0, 0, 0, ..., 0, 0, 0],\n",
              "       [0, 0, 0, ..., 0, 0, 0],\n",
              "       [0, 0, 0, ..., 0, 0, 0]], dtype=uint8)"
            ]
          },
          "metadata": {},
          "execution_count": 12
        }
      ]
    },
    {
      "cell_type": "code",
      "source": [
        "train_X.shape"
      ],
      "metadata": {
        "colab": {
          "base_uri": "https://localhost:8080/"
        },
        "id": "Q_b0FkWVxmwS",
        "outputId": "b4934d3c-75ec-4284-d4d6-c2123dee3857"
      },
      "execution_count": 13,
      "outputs": [
        {
          "output_type": "execute_result",
          "data": {
            "text/plain": [
              "(60000, 784)"
            ]
          },
          "metadata": {},
          "execution_count": 13
        }
      ]
    },
    {
      "cell_type": "code",
      "source": [
        "test_X = test_X.reshape(test_X.shape[0], -1)\n",
        "test_X.shape"
      ],
      "metadata": {
        "colab": {
          "base_uri": "https://localhost:8080/"
        },
        "id": "xtCKxdNyxoog",
        "outputId": "962bb63f-c91d-4541-e0ae-ddc1a3785f8a"
      },
      "execution_count": 14,
      "outputs": [
        {
          "output_type": "execute_result",
          "data": {
            "text/plain": [
              "(10000, 784)"
            ]
          },
          "metadata": {},
          "execution_count": 14
        }
      ]
    },
    {
      "cell_type": "code",
      "source": [
        "train_X[0].shape"
      ],
      "metadata": {
        "colab": {
          "base_uri": "https://localhost:8080/"
        },
        "id": "J69FZ_CuxqOl",
        "outputId": "a7a96328-21ff-4510-9f1b-672d32d4c8c8"
      },
      "execution_count": 15,
      "outputs": [
        {
          "output_type": "execute_result",
          "data": {
            "text/plain": [
              "(784,)"
            ]
          },
          "metadata": {},
          "execution_count": 15
        }
      ]
    },
    {
      "cell_type": "code",
      "source": [
        "train_X[:, 0].shape"
      ],
      "metadata": {
        "colab": {
          "base_uri": "https://localhost:8080/"
        },
        "id": "a90-ZRvgxri6",
        "outputId": "d91c0f74-95c0-40ea-c858-5e8ef452cefd"
      },
      "execution_count": 16,
      "outputs": [
        {
          "output_type": "execute_result",
          "data": {
            "text/plain": [
              "(60000,)"
            ]
          },
          "metadata": {},
          "execution_count": 16
        }
      ]
    },
    {
      "cell_type": "code",
      "source": [
        "train_X = train_X.T\n",
        "test_X = test_X.T"
      ],
      "metadata": {
        "id": "cnT7guKRxtE4"
      },
      "execution_count": 17,
      "outputs": []
    },
    {
      "cell_type": "code",
      "source": [
        "train_X = train_X/255.\n",
        "test_X = test_X/255."
      ],
      "metadata": {
        "id": "w0chkVOfxvPR"
      },
      "execution_count": 18,
      "outputs": []
    },
    {
      "cell_type": "code",
      "source": [
        "train_y"
      ],
      "metadata": {
        "colab": {
          "base_uri": "https://localhost:8080/"
        },
        "id": "FPG-Xh5qxyej",
        "outputId": "87f464f1-6fe1-4a93-8c04-9eab0e085f0f"
      },
      "execution_count": 19,
      "outputs": [
        {
          "output_type": "execute_result",
          "data": {
            "text/plain": [
              "array([5, 0, 4, ..., 5, 6, 8], dtype=uint8)"
            ]
          },
          "metadata": {},
          "execution_count": 19
        }
      ]
    },
    {
      "cell_type": "code",
      "source": [
        "train_X[0].shape"
      ],
      "metadata": {
        "colab": {
          "base_uri": "https://localhost:8080/"
        },
        "id": "2MevB4VLxz7I",
        "outputId": "8b82e620-2e0d-4bed-81da-91bbcdcca414"
      },
      "execution_count": 20,
      "outputs": [
        {
          "output_type": "execute_result",
          "data": {
            "text/plain": [
              "(60000,)"
            ]
          },
          "metadata": {},
          "execution_count": 20
        }
      ]
    },
    {
      "cell_type": "code",
      "source": [
        "import types\n",
        "import h5py"
      ],
      "metadata": {
        "id": "AjB2u8_0x1M2"
      },
      "execution_count": 21,
      "outputs": []
    },
    {
      "cell_type": "code",
      "source": [
        "import numpy as np\n",
        "import h5py\n",
        "\n",
        "\n",
        "class NeuralNetwork:\n",
        "    def __init__(self, input_size=784, hidden_size=128, output_size=10):\n",
        "        # Xavier Initialization for weights\n",
        "        self.w1 = np.random.randn(hidden_size, input_size) * np.sqrt(1. / input_size)\n",
        "        self.b1 = np.zeros((hidden_size, 1))\n",
        "        self.w2 = np.random.randn(output_size, hidden_size) * np.sqrt(1. / hidden_size)\n",
        "        self.b2 = np.zeros((output_size, 1))\n",
        "\n",
        "    def relu(self, z):\n",
        "        return np.maximum(0, z)\n",
        "\n",
        "    def softmax(self, z):\n",
        "        exp_z = np.exp(z - np.max(z, axis=0, keepdims=True))\n",
        "        return exp_z / np.sum(exp_z, axis=0, keepdims=True)\n",
        "\n",
        "    def compute_loss(self, y_true, y_pred):\n",
        "        \"\"\"Cross-Entropy Loss\"\"\"\n",
        "        m = y_true.shape[1]\n",
        "        loss = -np.sum(y_true * np.log(y_pred + 1e-9)) / m\n",
        "        return loss\n",
        "\n",
        "    def forward_propagation(self, X):\n",
        "        \"\"\"Forward pass\"\"\"\n",
        "        self.z1 = np.dot(self.w1, X) + self.b1\n",
        "        self.a1 = self.relu(self.z1)\n",
        "        self.z2 = np.dot(self.w2, self.a1) + self.b2\n",
        "        self.a2 = self.softmax(self.z2)\n",
        "\n",
        "    def one_hot_encoding(self, y, num_classes=10):\n",
        "        \"\"\"One-hot encoding for labels\"\"\"\n",
        "        one_hot_y = np.zeros((num_classes, y.size))\n",
        "        one_hot_y[y, np.arange(y.size)] = 1\n",
        "        return one_hot_y\n",
        "\n",
        "    def derivative_relu(self, z):\n",
        "        \"\"\"Derivative of ReLU\"\"\"\n",
        "        return z > 0\n",
        "\n",
        "    def back_propagation(self, X, y_true):\n",
        "        \"\"\"Backward pass\"\"\"\n",
        "        m = y_true.shape[1]\n",
        "\n",
        "        # Gradients for output layer\n",
        "        dz2 = self.a2 - y_true\n",
        "        dw2 = (1 / m) * np.dot(dz2, self.a1.T)\n",
        "        db2 = (1 / m) * np.sum(dz2, axis=1, keepdims=True)\n",
        "\n",
        "        # Gradients for hidden layer\n",
        "        dz1 = np.dot(self.w2.T, dz2) * self.derivative_relu(self.z1)\n",
        "        dw1 = (1 / m) * np.dot(dz1, X.T)\n",
        "        db1 = (1 / m) * np.sum(dz1, axis=1, keepdims=True)\n",
        "\n",
        "        return dw1, db1, dw2, db2\n",
        "\n",
        "    def update_parameters(self, dw1, db1, dw2, db2, lr):\n",
        "        \"\"\"Update weights and biases using gradients\"\"\"\n",
        "        self.w1 -= lr * dw1\n",
        "        self.b1 -= lr * db1\n",
        "        self.w2 -= lr * dw2\n",
        "        self.b2 -= lr * db2\n",
        "\n",
        "    def get_accuracy(self, predictions, y):\n",
        "        return np.sum(predictions == y) / y.size\n",
        "\n",
        "    def get_predictions(self, a2):\n",
        "        return np.argmax(a2, axis=0)\n",
        "\n",
        "    def fit(self, X, y, epochs, lr, batch_size=64):\n",
        "        \"\"\"Training loop with mini-batch gradient descent\"\"\"\n",
        "        num_samples = X.shape[1]\n",
        "        num_batches = num_samples // batch_size\n",
        "        accuracies, losses = [], []\n",
        "\n",
        "        y_one_hot = self.one_hot_encoding(y)\n",
        "\n",
        "        for epoch in range(epochs):\n",
        "            epoch_loss = 0\n",
        "            for i in range(num_batches):\n",
        "                start = i * batch_size\n",
        "                end = start + batch_size\n",
        "                X_batch = X[:, start:end]\n",
        "                y_batch = y_one_hot[:, start:end]\n",
        "\n",
        "                # Forward and Backward Pass\n",
        "                self.forward_propagation(X_batch)\n",
        "                dw1, db1, dw2, db2 = self.back_propagation(X_batch, y_batch)\n",
        "                self.update_parameters(dw1, db1, dw2, db2, lr)\n",
        "\n",
        "                # Compute Batch Loss\n",
        "                batch_loss = self.compute_loss(y_batch, self.a2)\n",
        "                epoch_loss += batch_loss\n",
        "\n",
        "            # Epoch Logging\n",
        "            epoch_loss /= num_batches\n",
        "            losses.append(epoch_loss)\n",
        "            accuracy = self.get_accuracy(self.get_predictions(self.a2), y[start:end])\n",
        "            accuracies.append(accuracy)\n",
        "            print(f\"Epoch {epoch + 1}/{epochs}, Loss: {epoch_loss:.4f}, Accuracy: {accuracy:.4f}\")\n",
        "\n",
        "        return accuracies, losses\n",
        "\n",
        "    def predict(self, X):\n",
        "        \"\"\"Prediction\"\"\"\n",
        "        self.forward_propagation(X)\n",
        "        return self.get_predictions(self.a2)\n",
        "\n",
        "    def evaluate_accuracy(self, X, y):\n",
        "        \"\"\"Evaluation\"\"\"\n",
        "        predictions = self.predict(X)\n",
        "        return self.get_accuracy(predictions, y)\n",
        "\n",
        "    def save_model(self, filename, losses, accuracies):\n",
        "        \"\"\"Save model weights and metrics\"\"\"\n",
        "        with h5py.File(filename, 'w') as f:\n",
        "            f.create_dataset('w1', data=self.w1)\n",
        "            f.create_dataset('b1', data=self.b1)\n",
        "            f.create_dataset('w2', data=self.w2)\n",
        "            f.create_dataset('b2', data=self.b2)\n",
        "            f.create_dataset('losses', data=losses)\n",
        "            f.create_dataset('accuracies', data=accuracies)\n",
        "\n",
        "    def load_model(self, filename):\n",
        "        \"\"\"Load model weights and metrics\"\"\"\n",
        "        with h5py.File(filename, 'r') as f:\n",
        "            self.w1 = f['w1'][:]\n",
        "            self.b1 = f['b1'][:]\n",
        "            self.w2 = f['w2'][:]\n",
        "            self.b2 = f['b2'][:]\n",
        "            losses = f['losses'][:]\n",
        "            accuracies = f['accuracies'][:]\n",
        "        return accuracies, losses\n"
      ],
      "metadata": {
        "id": "dGAxhc5Ux3Jq"
      },
      "execution_count": 39,
      "outputs": []
    },
    {
      "cell_type": "code",
      "source": [
        "nn = NeuralNetwork()"
      ],
      "metadata": {
        "id": "hbUYBOyjx_Bz"
      },
      "execution_count": 40,
      "outputs": []
    },
    {
      "cell_type": "code",
      "source": [
        "epochs = 17\n",
        "lr = 0.01\n",
        "accuracies, losses = nn.fit(train_X, train_y, epochs, lr)"
      ],
      "metadata": {
        "colab": {
          "base_uri": "https://localhost:8080/"
        },
        "id": "TPzv8LDnyA4T",
        "outputId": "8c5d247b-a42b-444c-c31f-ed922fc2c0ac"
      },
      "execution_count": 41,
      "outputs": [
        {
          "output_type": "stream",
          "name": "stdout",
          "text": [
            "Epoch 1/17, Loss: 0.9977, Accuracy: 0.7969\n",
            "Epoch 2/17, Loss: 0.4447, Accuracy: 0.8906\n",
            "Epoch 3/17, Loss: 0.3705, Accuracy: 0.9062\n",
            "Epoch 4/17, Loss: 0.3365, Accuracy: 0.9062\n",
            "Epoch 5/17, Loss: 0.3146, Accuracy: 0.9062\n",
            "Epoch 6/17, Loss: 0.2980, Accuracy: 0.9062\n",
            "Epoch 7/17, Loss: 0.2842, Accuracy: 0.9219\n",
            "Epoch 8/17, Loss: 0.2721, Accuracy: 0.9219\n",
            "Epoch 9/17, Loss: 0.2612, Accuracy: 0.9375\n",
            "Epoch 10/17, Loss: 0.2513, Accuracy: 0.9375\n",
            "Epoch 11/17, Loss: 0.2421, Accuracy: 0.9375\n",
            "Epoch 12/17, Loss: 0.2337, Accuracy: 0.9375\n",
            "Epoch 13/17, Loss: 0.2259, Accuracy: 0.9375\n",
            "Epoch 14/17, Loss: 0.2185, Accuracy: 0.9375\n",
            "Epoch 15/17, Loss: 0.2116, Accuracy: 0.9531\n",
            "Epoch 16/17, Loss: 0.2051, Accuracy: 0.9531\n",
            "Epoch 17/17, Loss: 0.1989, Accuracy: 0.9531\n"
          ]
        }
      ]
    },
    {
      "cell_type": "code",
      "source": [
        "import os\n",
        "\n",
        "model_folder = \"/content/drive/MyDrive\"\n",
        "model_filename = \"neural_network_model.h5\"\n",
        "model_path = os.path.join(model_folder, model_filename)\n",
        "\n",
        "if not os.path.exists(model_folder):\n",
        "    os.makedirs(model_folder)\n",
        "\n",
        "nn.save_model(model_path, losses, accuracies)\n",
        "\n",
        "print(f\"Model saved successfully at {model_path}\")"
      ],
      "metadata": {
        "colab": {
          "base_uri": "https://localhost:8080/"
        },
        "id": "M8fHoQb9yI7u",
        "outputId": "c5662b0b-037d-4386-a559-0b89615e14a0"
      },
      "execution_count": 43,
      "outputs": [
        {
          "output_type": "stream",
          "name": "stdout",
          "text": [
            "Model saved successfully at /content/drive/MyDrive/neural_network_model.h5\n"
          ]
        }
      ]
    },
    {
      "cell_type": "code",
      "source": [
        "test_accuracy = nn.evaluate_accuracy(test_X, test_y)\n",
        "print(\"Test Accuracy:\", test_accuracy)"
      ],
      "metadata": {
        "colab": {
          "base_uri": "https://localhost:8080/"
        },
        "id": "5zkD_unq2N93",
        "outputId": "1e752fa9-3700-4a50-bf76-2bb996c83f06"
      },
      "execution_count": 44,
      "outputs": [
        {
          "output_type": "stream",
          "name": "stdout",
          "text": [
            "Test Accuracy: 0.9439\n"
          ]
        }
      ]
    },
    {
      "cell_type": "code",
      "source": [
        "accuracies"
      ],
      "metadata": {
        "colab": {
          "base_uri": "https://localhost:8080/"
        },
        "id": "cgV5xHzc2pQk",
        "outputId": "26e306a3-9f97-4c63-e099-49fd500f9b73"
      },
      "execution_count": 45,
      "outputs": [
        {
          "output_type": "execute_result",
          "data": {
            "text/plain": [
              "[0.796875,\n",
              " 0.890625,\n",
              " 0.90625,\n",
              " 0.90625,\n",
              " 0.90625,\n",
              " 0.90625,\n",
              " 0.921875,\n",
              " 0.921875,\n",
              " 0.9375,\n",
              " 0.9375,\n",
              " 0.9375,\n",
              " 0.9375,\n",
              " 0.9375,\n",
              " 0.9375,\n",
              " 0.953125,\n",
              " 0.953125,\n",
              " 0.953125]"
            ]
          },
          "metadata": {},
          "execution_count": 45
        }
      ]
    },
    {
      "cell_type": "code",
      "source": [
        "random_index_1 = 10\n",
        "print(f\"Value of random number: {test_y[random_index_1]}\")\n",
        "\n",
        "individual_sample = test_X[:, random_index_1].reshape(-1, 1)\n",
        "\n",
        "# Get the prediction for the individual sample using the trained model\n",
        "prediction = nn.predict(individual_sample)\n",
        "\n",
        "# Print the predicted class label\n",
        "print(\"Predicted Class Label:\", prediction)"
      ],
      "metadata": {
        "colab": {
          "base_uri": "https://localhost:8080/"
        },
        "id": "oH5qrJmL2rUM",
        "outputId": "661a83d0-de50-4446-f8cd-60c4a9718b60"
      },
      "execution_count": 47,
      "outputs": [
        {
          "output_type": "stream",
          "name": "stdout",
          "text": [
            "Value of random number: 0\n",
            "Predicted Class Label: [0]\n"
          ]
        }
      ]
    },
    {
      "cell_type": "code",
      "source": [
        "random_index_2 = 12\n",
        "print(f\"Value of random number: {test_y[random_index_2]}\")\n",
        "\n",
        "individual_sample = test_X[:, random_index_2].reshape(-1, 1)\n",
        "\n",
        "# Get the prediction for the individual sample using the trained model\n",
        "prediction = nn.predict(individual_sample)\n",
        "\n",
        "# Print the predicted class label\n",
        "print(\"Predicted Class Label:\", prediction)"
      ],
      "metadata": {
        "colab": {
          "base_uri": "https://localhost:8080/"
        },
        "id": "aqY5T30_2_a0",
        "outputId": "f9da4c87-232c-42aa-8827-6fe71e154724"
      },
      "execution_count": 48,
      "outputs": [
        {
          "output_type": "stream",
          "name": "stdout",
          "text": [
            "Value of random number: 9\n",
            "Predicted Class Label: [9]\n"
          ]
        }
      ]
    },
    {
      "cell_type": "code",
      "source": [
        "import matplotlib.pyplot as plt\n",
        "\n",
        "epochs = len(accuracies)\n",
        "\n",
        "x = list(range(0, epochs * 50, 50))\n",
        "\n",
        "plt.plot(x, accuracies, label='Accuracy')\n",
        "\n",
        "plt.xlabel('Epochs')\n",
        "plt.ylabel('Accuracy')\n",
        "plt.title('Accuracy over Epochs')\n",
        "\n",
        "plt.grid(True)\n",
        "plt.legend()\n",
        "\n",
        "plt.show()"
      ],
      "metadata": {
        "colab": {
          "base_uri": "https://localhost:8080/",
          "height": 472
        },
        "id": "GddPbmD13I1y",
        "outputId": "bb274729-85d7-4eb8-cb9e-0707e721ab4a"
      },
      "execution_count": 49,
      "outputs": [
        {
          "output_type": "display_data",
          "data": {
            "text/plain": [
              "<Figure size 640x480 with 1 Axes>"
            ],
            "image/png": "[encoded data removed]"
          },
          "metadata": {}
        }
      ]
    }
  ]
}