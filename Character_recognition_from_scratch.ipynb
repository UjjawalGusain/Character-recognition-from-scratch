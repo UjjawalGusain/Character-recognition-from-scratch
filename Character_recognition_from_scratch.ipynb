{
  "nbformat": 4,
  "nbformat_minor": 0,
  "metadata": {
    "colab": {
      "provenance": [],
      "toc_visible": true
    },
    "kernelspec": {
      "name": "python3",
      "display_name": "Python 3"
    },
    "language_info": {
      "name": "python"
    }
  },
  "cells": [
    {
      "cell_type": "code",
      "execution_count": null,
      "metadata": {
        "id": "N4kwuxPal3DK"
      },
      "outputs": [],
      "source": [
        "import numpy as np\n",
        "import pandas as pd"
      ]
    },
    {
      "cell_type": "code",
      "source": [
        "import keras\n",
        "(train_X, train_y), (test_X, test_y) = keras.datasets.mnist.load_data(path=\"mnist.npz\")"
      ],
      "metadata": {
        "id": "dB9EiqvYpVh3"
      },
      "execution_count": null,
      "outputs": []
    },
    {
      "cell_type": "code",
      "source": [
        "train_X.shape"
      ],
      "metadata": {
        "colab": {
          "base_uri": "https://localhost:8080/"
        },
        "id": "mjAVoV77pkKa",
        "outputId": "b86b6fe9-7ca3-4946-e58c-16454d6ac1db"
      },
      "execution_count": null,
      "outputs": [
        {
          "output_type": "execute_result",
          "data": {
            "text/plain": [
              "(60000, 28, 28)"
            ]
          },
          "metadata": {},
          "execution_count": 3
        }
      ]
    },
    {
      "cell_type": "code",
      "source": [
        "test_X.shape"
      ],
      "metadata": {
        "colab": {
          "base_uri": "https://localhost:8080/"
        },
        "id": "IpHPvpUkp0mI",
        "outputId": "826b5adc-e9f6-4681-a37f-71dfd5e403f4"
      },
      "execution_count": null,
      "outputs": [
        {
          "output_type": "execute_result",
          "data": {
            "text/plain": [
              "(10000, 28, 28)"
            ]
          },
          "metadata": {},
          "execution_count": 4
        }
      ]
    },
    {
      "cell_type": "code",
      "source": [
        "type(train_X)"
      ],
      "metadata": {
        "colab": {
          "base_uri": "https://localhost:8080/"
        },
        "id": "rYCHh--np1sz",
        "outputId": "308e5148-7c25-49ce-848f-dc4927fdf68e"
      },
      "execution_count": null,
      "outputs": [
        {
          "output_type": "execute_result",
          "data": {
            "text/plain": [
              "numpy.ndarray"
            ]
          },
          "metadata": {},
          "execution_count": 5
        }
      ]
    },
    {
      "cell_type": "code",
      "source": [
        "np.isnan(train_y).sum()"
      ],
      "metadata": {
        "colab": {
          "base_uri": "https://localhost:8080/"
        },
        "id": "yTbwQy0uqEAg",
        "outputId": "69a5e2fe-75ce-4a3e-e064-79dea67adf79"
      },
      "execution_count": null,
      "outputs": [
        {
          "output_type": "execute_result",
          "data": {
            "text/plain": [
              "0"
            ]
          },
          "metadata": {},
          "execution_count": 6
        }
      ]
    },
    {
      "cell_type": "code",
      "source": [
        "np.isnan(train_X).sum()"
      ],
      "metadata": {
        "colab": {
          "base_uri": "https://localhost:8080/"
        },
        "id": "9xd0hKSAqKOE",
        "outputId": "d8bc5cbe-8537-4e3c-c3c1-896325d4e792"
      },
      "execution_count": null,
      "outputs": [
        {
          "output_type": "execute_result",
          "data": {
            "text/plain": [
              "0"
            ]
          },
          "metadata": {},
          "execution_count": 7
        }
      ]
    },
    {
      "cell_type": "code",
      "source": [
        "train_X"
      ],
      "metadata": {
        "colab": {
          "base_uri": "https://localhost:8080/"
        },
        "id": "nplNF6tFqoKY",
        "outputId": "efd50fa0-fa92-4d42-a361-a15307fdfc74"
      },
      "execution_count": null,
      "outputs": [
        {
          "output_type": "execute_result",
          "data": {
            "text/plain": [
              "array([[[0, 0, 0, ..., 0, 0, 0],\n",
              "        [0, 0, 0, ..., 0, 0, 0],\n",
              "        [0, 0, 0, ..., 0, 0, 0],\n",
              "        ...,\n",
              "        [0, 0, 0, ..., 0, 0, 0],\n",
              "        [0, 0, 0, ..., 0, 0, 0],\n",
              "        [0, 0, 0, ..., 0, 0, 0]],\n",
              "\n",
              "       [[0, 0, 0, ..., 0, 0, 0],\n",
              "        [0, 0, 0, ..., 0, 0, 0],\n",
              "        [0, 0, 0, ..., 0, 0, 0],\n",
              "        ...,\n",
              "        [0, 0, 0, ..., 0, 0, 0],\n",
              "        [0, 0, 0, ..., 0, 0, 0],\n",
              "        [0, 0, 0, ..., 0, 0, 0]],\n",
              "\n",
              "       [[0, 0, 0, ..., 0, 0, 0],\n",
              "        [0, 0, 0, ..., 0, 0, 0],\n",
              "        [0, 0, 0, ..., 0, 0, 0],\n",
              "        ...,\n",
              "        [0, 0, 0, ..., 0, 0, 0],\n",
              "        [0, 0, 0, ..., 0, 0, 0],\n",
              "        [0, 0, 0, ..., 0, 0, 0]],\n",
              "\n",
              "       ...,\n",
              "\n",
              "       [[0, 0, 0, ..., 0, 0, 0],\n",
              "        [0, 0, 0, ..., 0, 0, 0],\n",
              "        [0, 0, 0, ..., 0, 0, 0],\n",
              "        ...,\n",
              "        [0, 0, 0, ..., 0, 0, 0],\n",
              "        [0, 0, 0, ..., 0, 0, 0],\n",
              "        [0, 0, 0, ..., 0, 0, 0]],\n",
              "\n",
              "       [[0, 0, 0, ..., 0, 0, 0],\n",
              "        [0, 0, 0, ..., 0, 0, 0],\n",
              "        [0, 0, 0, ..., 0, 0, 0],\n",
              "        ...,\n",
              "        [0, 0, 0, ..., 0, 0, 0],\n",
              "        [0, 0, 0, ..., 0, 0, 0],\n",
              "        [0, 0, 0, ..., 0, 0, 0]],\n",
              "\n",
              "       [[0, 0, 0, ..., 0, 0, 0],\n",
              "        [0, 0, 0, ..., 0, 0, 0],\n",
              "        [0, 0, 0, ..., 0, 0, 0],\n",
              "        ...,\n",
              "        [0, 0, 0, ..., 0, 0, 0],\n",
              "        [0, 0, 0, ..., 0, 0, 0],\n",
              "        [0, 0, 0, ..., 0, 0, 0]]], dtype=uint8)"
            ]
          },
          "metadata": {},
          "execution_count": 8
        }
      ]
    },
    {
      "cell_type": "code",
      "source": [
        "train_y"
      ],
      "metadata": {
        "colab": {
          "base_uri": "https://localhost:8080/"
        },
        "id": "CpsVNB1gqsb3",
        "outputId": "697bd9ad-632b-4181-9b79-ef4c7c39a8d2"
      },
      "execution_count": null,
      "outputs": [
        {
          "output_type": "execute_result",
          "data": {
            "text/plain": [
              "array([5, 0, 4, ..., 5, 6, 8], dtype=uint8)"
            ]
          },
          "metadata": {},
          "execution_count": 9
        }
      ]
    },
    {
      "cell_type": "code",
      "source": [
        "train_X[0].shape"
      ],
      "metadata": {
        "colab": {
          "base_uri": "https://localhost:8080/"
        },
        "id": "m5P_eDRaq8vU",
        "outputId": "1fb9926e-9d1d-48bb-cf25-000bdcf9e45f"
      },
      "execution_count": null,
      "outputs": [
        {
          "output_type": "execute_result",
          "data": {
            "text/plain": [
              "(28, 28)"
            ]
          },
          "metadata": {},
          "execution_count": 10
        }
      ]
    },
    {
      "cell_type": "code",
      "source": [
        "train_X.shape"
      ],
      "metadata": {
        "colab": {
          "base_uri": "https://localhost:8080/"
        },
        "id": "I_LfZt6Wktcc",
        "outputId": "8bb739fa-b1c0-4f0a-960f-7a79943c8df1"
      },
      "execution_count": null,
      "outputs": [
        {
          "output_type": "execute_result",
          "data": {
            "text/plain": [
              "(60000, 28, 28)"
            ]
          },
          "metadata": {},
          "execution_count": 11
        }
      ]
    },
    {
      "cell_type": "code",
      "source": [
        "train_X = train_X.reshape(train_X.shape[0], -1)\n",
        "train_X"
      ],
      "metadata": {
        "id": "5ecjZcOov16r",
        "colab": {
          "base_uri": "https://localhost:8080/"
        },
        "outputId": "e6ab440c-6400-4904-e2b7-b00a2973b203"
      },
      "execution_count": null,
      "outputs": [
        {
          "output_type": "execute_result",
          "data": {
            "text/plain": [
              "array([[0, 0, 0, ..., 0, 0, 0],\n",
              "       [0, 0, 0, ..., 0, 0, 0],\n",
              "       [0, 0, 0, ..., 0, 0, 0],\n",
              "       ...,\n",
              "       [0, 0, 0, ..., 0, 0, 0],\n",
              "       [0, 0, 0, ..., 0, 0, 0],\n",
              "       [0, 0, 0, ..., 0, 0, 0]], dtype=uint8)"
            ]
          },
          "metadata": {},
          "execution_count": 12
        }
      ]
    },
    {
      "cell_type": "code",
      "source": [
        "train_X.shape"
      ],
      "metadata": {
        "colab": {
          "base_uri": "https://localhost:8080/"
        },
        "id": "V9nOmx-MmY1h",
        "outputId": "abc8f723-e698-4b81-9dfd-0ae24250a2c2"
      },
      "execution_count": null,
      "outputs": [
        {
          "output_type": "execute_result",
          "data": {
            "text/plain": [
              "(60000, 784)"
            ]
          },
          "metadata": {},
          "execution_count": 13
        }
      ]
    },
    {
      "cell_type": "code",
      "source": [
        "test_X = test_X.reshape(test_X.shape[0], -1)\n",
        "test_X.shape"
      ],
      "metadata": {
        "colab": {
          "base_uri": "https://localhost:8080/"
        },
        "id": "MT4PB37TnSQy",
        "outputId": "6fe5760f-5fe2-47d4-c3c1-f922c596dc47"
      },
      "execution_count": null,
      "outputs": [
        {
          "output_type": "execute_result",
          "data": {
            "text/plain": [
              "(10000, 784)"
            ]
          },
          "metadata": {},
          "execution_count": 14
        }
      ]
    },
    {
      "cell_type": "code",
      "source": [
        "train_X[0].shape"
      ],
      "metadata": {
        "colab": {
          "base_uri": "https://localhost:8080/"
        },
        "id": "U6lLbODcnYe4",
        "outputId": "87703e97-3431-42d6-cb81-1ae05be8b980"
      },
      "execution_count": null,
      "outputs": [
        {
          "output_type": "execute_result",
          "data": {
            "text/plain": [
              "(784,)"
            ]
          },
          "metadata": {},
          "execution_count": 15
        }
      ]
    },
    {
      "cell_type": "code",
      "source": [
        "train_X[:, 0].shape"
      ],
      "metadata": {
        "colab": {
          "base_uri": "https://localhost:8080/"
        },
        "id": "rY1G8rASnxq5",
        "outputId": "7541ec78-3002-4402-fffc-403d680921ca"
      },
      "execution_count": null,
      "outputs": [
        {
          "output_type": "execute_result",
          "data": {
            "text/plain": [
              "(60000,)"
            ]
          },
          "metadata": {},
          "execution_count": 16
        }
      ]
    },
    {
      "cell_type": "code",
      "source": [
        "train_X = train_X.T\n",
        "test_X = test_X.T"
      ],
      "metadata": {
        "id": "NYhZZTqkoVnz"
      },
      "execution_count": null,
      "outputs": []
    },
    {
      "cell_type": "code",
      "source": [
        "train_X = train_X/255."
      ],
      "metadata": {
        "id": "SPa0Os2spOVY"
      },
      "execution_count": null,
      "outputs": []
    },
    {
      "cell_type": "code",
      "source": [
        "test_X = test_X/255."
      ],
      "metadata": {
        "id": "OvA7RlY4pU0O"
      },
      "execution_count": null,
      "outputs": []
    },
    {
      "cell_type": "code",
      "source": [
        "train_y"
      ],
      "metadata": {
        "colab": {
          "base_uri": "https://localhost:8080/"
        },
        "id": "aNbYvTYzodZi",
        "outputId": "0a4cbea9-9073-40b4-b06f-24f08d7b68bb"
      },
      "execution_count": null,
      "outputs": [
        {
          "output_type": "execute_result",
          "data": {
            "text/plain": [
              "array([5, 0, 4, ..., 5, 6, 8], dtype=uint8)"
            ]
          },
          "metadata": {},
          "execution_count": 20
        }
      ]
    },
    {
      "cell_type": "code",
      "source": [
        "train_X[0].shape"
      ],
      "metadata": {
        "colab": {
          "base_uri": "https://localhost:8080/"
        },
        "id": "f6u9jywQoy_9",
        "outputId": "4cbc16c0-dbc2-4505-9c1e-2866b64a8ece"
      },
      "execution_count": null,
      "outputs": [
        {
          "output_type": "execute_result",
          "data": {
            "text/plain": [
              "(60000,)"
            ]
          },
          "metadata": {},
          "execution_count": 21
        }
      ]
    },
    {
      "cell_type": "code",
      "source": [
        "import types\n",
        "import h5py"
      ],
      "metadata": {
        "id": "lM931UsOm7PP"
      },
      "execution_count": null,
      "outputs": []
    },
    {
      "cell_type": "code",
      "source": [
        "# 784 - 128 - 10\n",
        "\n",
        "class NeuralNetwork():\n",
        "  def __init__(self):\n",
        "    self.w1 = np.random.rand(128, 784)\n",
        "    self.b1 = np.random.rand(128, 1)\n",
        "    self.w2 = np.random.rand(10, 128)\n",
        "    self.b2 = np.random.rand(10, 1)\n",
        "\n",
        "  def relu(self, z):\n",
        "    return np.maximum(0, z)\n",
        "\n",
        "  def softmax(self, z):\n",
        "    exp_z = np.exp(z - np.max(z, axis=0, keepdims=True))\n",
        "    return exp_z / np.sum(exp_z, axis=0, keepdims=True)\n",
        "\n",
        "\n",
        "  def forward_propagation(self, X):\n",
        "    A = X\n",
        "    self.z1 = self.w1.dot(A) + self.b1\n",
        "    self.a1 = self.relu(self.z1)\n",
        "    self.z2 = self.w2.dot(self.a1) + self.b2\n",
        "\n",
        "    self.a2 = self.softmax(self.z2)\n",
        "\n",
        "  def one_hot_encoding(self, y):\n",
        "    one_hot_y = np.zeros((y.size, y.max() + 1))\n",
        "    one_hot_y[np.arange(y.size), y] = 1\n",
        "    return one_hot_y.T\n",
        "\n",
        "  def derivative_relu(self, z):\n",
        "    return z > 0\n",
        "\n",
        "  def back_propagation(self, X, y):\n",
        "    m = y.size\n",
        "    one_hot_y = self.one_hot_encoding(y)\n",
        "    dz2 = self.a2 - one_hot_y\n",
        "    dw2 = 1/m * dz2.dot(self.a1.T)\n",
        "    db2 = 1/m * np.sum(dz2)\n",
        "    dz1 = self.w2.T.dot(dz2) * self.derivative_relu(self.z1)\n",
        "    dw1 = 1/m * dz1.dot(X.T)\n",
        "    db1 = 1/m * np.sum(dz1)\n",
        "\n",
        "    return dw1, db1, dw2, db2\n",
        "\n",
        "  def update_parameters(self, dw1, db1, dw2, db2, lr):\n",
        "    self.w1 = self.w1 - lr * dw1\n",
        "    self.b1 = self.b1 - lr * db1\n",
        "    self.w2 = self.w2 - lr * dw2\n",
        "    self.b2 = self.b2 - lr * db2\n",
        "\n",
        "  def get_accuracy(self, predictions, y):\n",
        "    return np.sum(predictions == y) / y.size\n",
        "\n",
        "  def get_predictions(self, a2):\n",
        "    return np.argmax(a2, 0)\n",
        "\n",
        "  def fit(self, X, y, epochs, lr):\n",
        "    accuracies = []\n",
        "    for i in range(epochs):\n",
        "      self.forward_propagation(X)\n",
        "      dw1, db1, dw2, db2 = self.back_propagation(X, y)\n",
        "      self.update_parameters(dw1, db1, dw2, db2, lr)\n",
        "\n",
        "      if(i%50 == 0):\n",
        "        print(\"Epochs: \", i)\n",
        "        accuracy = self.get_accuracy(self.get_predictions(self.a2), y)\n",
        "        print(\"Accuracy: \", accuracy)\n",
        "        accuracies.append(accuracy)\n",
        "    return self.w1, self.b1, self.w2, self.b2, accuracies\n",
        "\n",
        "  def predict(self, X):\n",
        "      # Forward propagation\n",
        "      self.forward_propagation(X)\n",
        "\n",
        "      # Softmax activation for the output layer\n",
        "      probabilities = self.softmax(self.a2)\n",
        "\n",
        "      # Get the index of the class with the highest probability for each input\n",
        "      predictions = np.argmax(probabilities, axis=0)\n",
        "      return predictions\n",
        "\n",
        "  def evaluate_accuracy(self, X, y):\n",
        "      # Get predictions for the given input data\n",
        "      predictions = self.predict(X)\n",
        "\n",
        "     # Calculate accuracy by comparing predictions with actual labels\n",
        "      accuracy = self.get_accuracy(predictions, y)\n",
        "\n",
        "      return accuracy\n",
        "\n",
        "  def save_model(self, filename, accuracies):\n",
        "      with h5py.File(filename, 'w') as f:\n",
        "        f.create_dataset('w1', data=self.w1)\n",
        "        f.create_dataset('b1', data=self.b1)\n",
        "        f.create_dataset('w2', data=self.w2)\n",
        "        f.create_dataset('b2', data=self.b2)\n",
        "        f.create_dataset('accuracies', data=accuracies)\n",
        "\n",
        "  def load_model(self, filename):\n",
        "    with h5py.File(filename, 'r') as f:\n",
        "        self.w1 = f['w1'][:]\n",
        "        self.b1 = f['b1'][:]\n",
        "        self.w2 = f['w2'][:]\n",
        "        self.b2 = f['b2'][:]\n",
        "        accuracies = f['accuracies'][:]\n",
        "    return accuracies\n"
      ],
      "metadata": {
        "id": "CryuLcC6o3vT"
      },
      "execution_count": null,
      "outputs": []
    },
    {
      "cell_type": "code",
      "source": [
        "nn = NeuralNetwork()"
      ],
      "metadata": {
        "id": "xbOaH6yJ0s8-"
      },
      "execution_count": null,
      "outputs": []
    },
    {
      "cell_type": "code",
      "source": [
        "## Run this to train the model\n",
        "\n",
        "# epochs = 2000\n",
        "# lr = 0.01\n",
        "# w1, b1, w2, b2, accuracies = nn.fit(train_X, train_y, epochs, lr)"
      ],
      "metadata": {
        "colab": {
          "base_uri": "https://localhost:8080/"
        },
        "id": "VQ9tMcTQyTlV",
        "outputId": "79b3405e-7d3a-495d-a426-61f33dc8593d"
      },
      "execution_count": null,
      "outputs": [
        {
          "output_type": "stream",
          "name": "stdout",
          "text": [
            "Epochs:  0\n",
            "Accuracy:  0.11236666666666667\n",
            "Epochs:  50\n",
            "Accuracy:  0.10218333333333333\n",
            "Epochs:  100\n",
            "Accuracy:  0.20358333333333334\n",
            "Epochs:  150\n",
            "Accuracy:  0.4004666666666667\n",
            "Epochs:  200\n",
            "Accuracy:  0.5164\n",
            "Epochs:  250\n",
            "Accuracy:  0.48838333333333334\n",
            "Epochs:  300\n",
            "Accuracy:  0.5962833333333334\n",
            "Epochs:  350\n",
            "Accuracy:  0.5782666666666667\n",
            "Epochs:  400\n",
            "Accuracy:  0.6382\n",
            "Epochs:  450\n",
            "Accuracy:  0.6409666666666667\n",
            "Epochs:  500\n",
            "Accuracy:  0.688\n",
            "Epochs:  550\n",
            "Accuracy:  0.6697166666666666\n",
            "Epochs:  600\n",
            "Accuracy:  0.71875\n",
            "Epochs:  650\n",
            "Accuracy:  0.6953666666666667\n",
            "Epochs:  700\n",
            "Accuracy:  0.6833\n",
            "Epochs:  750\n",
            "Accuracy:  0.7263333333333334\n",
            "Epochs:  800\n",
            "Accuracy:  0.72115\n",
            "Epochs:  850\n",
            "Accuracy:  0.69765\n",
            "Epochs:  900\n",
            "Accuracy:  0.7112333333333334\n",
            "Epochs:  950\n",
            "Accuracy:  0.7172833333333334\n",
            "Epochs:  1000\n",
            "Accuracy:  0.7244833333333334\n",
            "Epochs:  1050\n",
            "Accuracy:  0.732\n",
            "Epochs:  1100\n",
            "Accuracy:  0.73905\n",
            "Epochs:  1150\n",
            "Accuracy:  0.7417833333333334\n",
            "Epochs:  1200\n",
            "Accuracy:  0.7431166666666666\n",
            "Epochs:  1250\n",
            "Accuracy:  0.7461833333333333\n",
            "Epochs:  1300\n",
            "Accuracy:  0.7407166666666667\n",
            "Epochs:  1350\n",
            "Accuracy:  0.7510666666666667\n",
            "Epochs:  1400\n",
            "Accuracy:  0.7788333333333334\n",
            "Epochs:  1450\n",
            "Accuracy:  0.7807166666666666\n",
            "Epochs:  1500\n",
            "Accuracy:  0.7813\n",
            "Epochs:  1550\n",
            "Accuracy:  0.7083833333333334\n",
            "Epochs:  1600\n",
            "Accuracy:  0.7249\n",
            "Epochs:  1650\n",
            "Accuracy:  0.7487333333333334\n",
            "Epochs:  1700\n",
            "Accuracy:  0.7832833333333333\n",
            "Epochs:  1750\n",
            "Accuracy:  0.7859666666666667\n",
            "Epochs:  1800\n",
            "Accuracy:  0.7866333333333333\n",
            "Epochs:  1850\n",
            "Accuracy:  0.7084833333333334\n",
            "Epochs:  1900\n",
            "Accuracy:  0.7240833333333333\n",
            "Epochs:  1950\n",
            "Accuracy:  0.7414833333333334\n"
          ]
        }
      ]
    },
    {
      "cell_type": "code",
      "source": [
        "accuracies = nn.load_model('/content/drive/MyDrive/neuralNetwork_784_128_10_v2.h5')"
      ],
      "metadata": {
        "id": "Qpu4qPAz6cLM"
      },
      "execution_count": null,
      "outputs": []
    },
    {
      "cell_type": "code",
      "source": [
        "test_accuracy = nn.evaluate_accuracy(test_X, test_y)\n",
        "print(\"Test Accuracy:\", test_accuracy)"
      ],
      "metadata": {
        "colab": {
          "base_uri": "https://localhost:8080/"
        },
        "id": "7-Hc7606wRw4",
        "outputId": "3818ed77-d461-48d3-cb3d-a7e44a5682e6"
      },
      "execution_count": null,
      "outputs": [
        {
          "output_type": "stream",
          "name": "stdout",
          "text": [
            "Test Accuracy: 0.7981\n"
          ]
        }
      ]
    },
    {
      "cell_type": "code",
      "source": [
        "accuracies"
      ],
      "metadata": {
        "colab": {
          "base_uri": "https://localhost:8080/"
        },
        "id": "cCyU6tTlUinD",
        "outputId": "36be0a2f-58c0-4477-c7be-72dbb86a38db"
      },
      "execution_count": null,
      "outputs": [
        {
          "output_type": "execute_result",
          "data": {
            "text/plain": [
              "array([0.11236667, 0.10218333, 0.20358333, 0.40046667, 0.5164    ,\n",
              "       0.48838333, 0.59628333, 0.57826667, 0.6382    , 0.64096667,\n",
              "       0.688     , 0.66971667, 0.71875   , 0.69536667, 0.6833    ,\n",
              "       0.72633333, 0.72115   , 0.69765   , 0.71123333, 0.71728333,\n",
              "       0.72448333, 0.732     , 0.73905   , 0.74178333, 0.74311667,\n",
              "       0.74618333, 0.74071667, 0.75106667, 0.77883333, 0.78071667,\n",
              "       0.7813    , 0.70838333, 0.7249    , 0.74873333, 0.78328333,\n",
              "       0.78596667, 0.78663333, 0.70848333, 0.72408333, 0.74148333])"
            ]
          },
          "metadata": {},
          "execution_count": 27
        }
      ]
    },
    {
      "cell_type": "code",
      "source": [
        "random_index = 10\n",
        "test_y[random_index]"
      ],
      "metadata": {
        "colab": {
          "base_uri": "https://localhost:8080/"
        },
        "id": "EO4Wz0mYUj3C",
        "outputId": "824c827b-c838-4be3-b8ab-770d98e3b2f3"
      },
      "execution_count": null,
      "outputs": [
        {
          "output_type": "execute_result",
          "data": {
            "text/plain": [
              "0"
            ]
          },
          "metadata": {},
          "execution_count": 28
        }
      ]
    },
    {
      "cell_type": "code",
      "source": [
        "# Extract the individual data point from your dataset\n",
        "individual_sample = test_X[:, random_index].reshape(-1, 1)  # Assuming X is your dataset\n",
        "\n",
        "# Get the prediction for the individual sample using the trained model\n",
        "prediction = nn.predict(individual_sample)\n",
        "\n",
        "# Print the predicted class label\n",
        "print(\"Predicted Class Label:\", prediction)"
      ],
      "metadata": {
        "colab": {
          "base_uri": "https://localhost:8080/"
        },
        "id": "P_ii8lmDVNsc",
        "outputId": "00e5c7cd-f059-4842-b265-e5d8fb40310c"
      },
      "execution_count": null,
      "outputs": [
        {
          "output_type": "stream",
          "name": "stdout",
          "text": [
            "Predicted Class Label: [0]\n"
          ]
        }
      ]
    },
    {
      "cell_type": "code",
      "source": [
        "len(accuracies)"
      ],
      "metadata": {
        "colab": {
          "base_uri": "https://localhost:8080/"
        },
        "id": "Qc6w5dWaX8-i",
        "outputId": "0f8f3084-a9ea-4f22-f121-cd4876069a3a"
      },
      "execution_count": null,
      "outputs": [
        {
          "output_type": "execute_result",
          "data": {
            "text/plain": [
              "40"
            ]
          },
          "metadata": {},
          "execution_count": 30
        }
      ]
    },
    {
      "cell_type": "code",
      "source": [
        "import matplotlib.pyplot as plt\n",
        "\n",
        "# Number of epochs (assuming accuracies contains accuracy for each epoch)\n",
        "epochs = len(accuracies)\n",
        "\n",
        "# Create x-axis values (epochs)\n",
        "x = list(range(0, epochs * 50, 50))\n",
        "\n",
        "# Plot accuracies\n",
        "plt.plot(x, accuracies, label='Accuracy')\n",
        "\n",
        "# Add labels and title\n",
        "plt.xlabel('Epochs')\n",
        "plt.ylabel('Accuracy')\n",
        "plt.title('Accuracy over Epochs')\n",
        "\n",
        "# Add grid\n",
        "plt.grid(True)\n",
        "\n",
        "# Show legend\n",
        "plt.legend()\n",
        "\n",
        "# Show plot\n",
        "plt.show()\n"
      ],
      "metadata": {
        "colab": {
          "base_uri": "https://localhost:8080/",
          "height": 472
        },
        "id": "TsSyRfc_W5tV",
        "outputId": "88851389-de2b-41b7-9f08-6438683df034"
      },
      "execution_count": null,
      "outputs": [
        {
          "output_type": "display_data",
          "data": {
            "text/plain": [
              "<Figure size 640x480 with 1 Axes>"
            ],
            "image/png": "[encoded data removed]"
          },
          "metadata": {}
        }
      ]
    },
    {
      "cell_type": "code",
      "source": [
        "random_index = 12\n",
        "print(\"True: \", test_y[random_index])\n",
        "\n",
        "# Extract the individual data point from your dataset\n",
        "individual_sample = test_X[:, random_index].reshape(-1, 1)  # Assuming X is your dataset\n",
        "\n",
        "# Get the prediction for the individual sample using the trained model\n",
        "prediction = nn.predict(individual_sample)\n",
        "\n",
        "# Print the predicted class label\n",
        "print(\"Predicted Class Label:\", prediction)"
      ],
      "metadata": {
        "colab": {
          "base_uri": "https://localhost:8080/"
        },
        "id": "1IujcYbXg7no",
        "outputId": "68f5deb8-7bcf-4e78-b724-ca2847d5fb8d"
      },
      "execution_count": null,
      "outputs": [
        {
          "output_type": "stream",
          "name": "stdout",
          "text": [
            "True:  9\n",
            "Predicted Class Label: [9]\n"
          ]
        }
      ]
    },
    {
      "cell_type": "code",
      "source": [
        "# nn.save_model('neuralNetwork_784_128_10_v2.h5', accuracies)"
      ],
      "metadata": {
        "id": "22sUkec1l2Cc"
      },
      "execution_count": null,
      "outputs": []
    },
    {
      "cell_type": "code",
      "source": [],
      "metadata": {
        "id": "Z9w-cCPI6Nh9"
      },
      "execution_count": null,
      "outputs": []
    }
  ]
}